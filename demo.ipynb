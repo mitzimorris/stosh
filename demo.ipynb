{
 "cells": [
  {
   "cell_type": "markdown",
   "id": "42d5892b-846e-49be-8317-30fe3e364d17",
   "metadata": {},
   "source": [
    "# Stosh demo"
   ]
  },
  {
   "cell_type": "code",
   "execution_count": null,
   "id": "2f356ef1-0510-49c2-a149-489243813e34",
   "metadata": {},
   "outputs": [],
   "source": [
    "import sys\n",
    "import os\n",
    "import stosh"
   ]
  },
  {
   "cell_type": "code",
   "execution_count": null,
   "id": "485dbdc9-59d2-4146-8a34-3b6dc9968d7f",
   "metadata": {},
   "outputs": [],
   "source": [
    "%env STAN_ROOT=/Users/mitzi/github/stan-dev/stan/"
   ]
  },
  {
   "cell_type": "code",
   "execution_count": null,
   "id": "ac7c9891-e7da-4be6-aa05-67a65fcd61c6",
   "metadata": {},
   "outputs": [],
   "source": [
    "bern_stanfile = os.path.join('examples', 'bernoulli.stan')\n",
    "bern_model = stosh.compile(bern_stanfile)"
   ]
  },
  {
   "cell_type": "code",
   "execution_count": null,
   "id": "9c4bef44-35c1-4a23-be78-879911eea484",
   "metadata": {},
   "outputs": [],
   "source": [
    "bern_datafile = os.path.join('examples', 'bernoulli.data.json')\n",
    "bern_model.load_data(bern_datafile)"
   ]
  },
  {
   "cell_type": "code",
   "execution_count": null,
   "id": "9e477e5e-35b0-4712-96e6-c9f170706ed8",
   "metadata": {},
   "outputs": [],
   "source": [
    "bern_model.name"
   ]
  },
  {
   "cell_type": "code",
   "execution_count": null,
   "id": "86a77b03-9ed1-4089-b2d1-450a77ac4a8b",
   "metadata": {},
   "outputs": [],
   "source": [
    "fit = bern_model.hmc_nuts()"
   ]
  }
 ],
 "metadata": {
  "kernelspec": {
   "display_name": "Python 3 (ipykernel)",
   "language": "python",
   "name": "python3"
  },
  "language_info": {
   "codemirror_mode": {
    "name": "ipython",
    "version": 3
   },
   "file_extension": ".py",
   "mimetype": "text/x-python",
   "name": "python",
   "nbconvert_exporter": "python",
   "pygments_lexer": "ipython3",
   "version": "3.12.2"
  }
 },
 "nbformat": 4,
 "nbformat_minor": 5
}
